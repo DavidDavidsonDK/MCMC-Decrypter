{
 "cells": [
  {
   "cell_type": "code",
   "execution_count": 1,
   "metadata": {
    "collapsed": true
   },
   "outputs": [],
   "source": [
    "import pandas as pd\n",
    "import numpy  as np\n",
    "import matplotlib.pyplot as plt\n",
    "import random \n",
    "import math\n",
    "import collections\n",
    "import re\n",
    "import time\n",
    "%matplotlib inline"
   ]
  },
  {
   "cell_type": "code",
   "execution_count": 2,
   "metadata": {
    "collapsed": true
   },
   "outputs": [],
   "source": [
    "import warnings\n",
    "warnings.filterwarnings('ignore')"
   ]
  },
  {
   "cell_type": "markdown",
   "metadata": {},
   "source": [
    "# Reading data"
   ]
  },
  {
   "cell_type": "code",
   "execution_count": 3,
   "metadata": {
    "collapsed": true
   },
   "outputs": [],
   "source": [
    "#read alphabet\n",
    "alphabet = pd.read_csv('alphabet.csv')\n",
    "alphabet = np.array(alphabet.columns)"
   ]
  },
  {
   "cell_type": "code",
   "execution_count": 4,
   "metadata": {
    "collapsed": true
   },
   "outputs": [],
   "source": [
    "#read chiper_function\n",
    "cipher_function  = pd.read_csv('cipher_function.csv')\n",
    "cipher_function = np.array(cipher_function.columns)"
   ]
  },
  {
   "cell_type": "code",
   "execution_count": 5,
   "metadata": {
    "collapsed": true
   },
   "outputs": [],
   "source": [
    "#create MAP table for chiper_function // chiper_letter --> original letter\n",
    "cipher_MAP = pd.DataFrame(cipher_function,alphabet)\n",
    "cipher_MAP.columns = ['ciphing']"
   ]
  },
  {
   "cell_type": "code",
   "execution_count": 6,
   "metadata": {
    "collapsed": true
   },
   "outputs": [],
   "source": [
    "#read cipher_text\n",
    "cipher_file = open('ciphertext.txt','r')\n",
    "cipher_text = cipher_file.read()\n",
    "cipher_file.close()"
   ]
  },
  {
   "cell_type": "code",
   "execution_count": 7,
   "metadata": {
    "collapsed": true
   },
   "outputs": [],
   "source": [
    "#read letter_probs\n",
    "letter_probs = pd.read_csv('letter_probabilities.csv')\n",
    "letter_probs = np.array(letter_probs.columns)"
   ]
  },
  {
   "cell_type": "code",
   "execution_count": 8,
   "metadata": {
    "collapsed": true
   },
   "outputs": [],
   "source": [
    "#read letter_transition_matrix \n",
    "trans_mat = pd.read_csv('letter_transition_matrix.csv', header=None)\n",
    "trans_mat = np.array(trans_mat)"
   ]
  },
  {
   "cell_type": "code",
   "execution_count": 9,
   "metadata": {
    "collapsed": true
   },
   "outputs": [],
   "source": [
    "#read plain(original) text\n",
    "plain_file = open('plaintext.txt','r')\n",
    "plain_text = plain_file.read()\n",
    "plain_file.close()"
   ]
  },
  {
   "cell_type": "markdown",
   "metadata": {},
   "source": [
    "# Problem 1: Bayesian Framework"
   ]
  },
  {
   "cell_type": "markdown",
   "metadata": {},
   "source": [
    "- (a) Determine the likelihood of the (observed) ciphertext y under a ciphering func-\n",
    "tion f, i.e., $ p_{y|f} (y | f).$"
   ]
  },
  {
   "cell_type": "markdown",
   "metadata": {},
   "source": [
    "$ p_{y|f} (y | f) = \\frac{p(y,f)} {p(f)} $"
   ]
  },
  {
   "cell_type": "markdown",
   "metadata": {},
   "source": [
    "- (b) Determine  the posterior distribution $ p_{f|y}(f | y) $  and specify the MAP estimator $ \\hat{f}_{MAP}(y)$ of the  ciphering function f . "
   ]
  },
  {
   "cell_type": "markdown",
   "metadata": {},
   "source": [
    "$ p_{f|y} (f | y) = p(f^{-1}(y_0)) \\displaystyle\\prod_{n = 2}^{N} p(y_n|y_{n-1}(f^{-1}(y_n)|f^{-1}(y_{n-1}))) $           \n",
    "$\\hat{f}_{MAP}(y)$ is a estimator of chip_function, for which $ E_p[\\hat{f}_{MAP}(y)] = f$ "
   ]
  },
  {
   "cell_type": "markdown",
   "metadata": {},
   "source": [
    "- (c) Why is direct evaluation of the MAP estimate $ \\hat{f}_{MAP}(y)$ computationally infeasible?"
   ]
  },
  {
   "cell_type": "markdown",
   "metadata": {},
   "source": [
    "To find out $ p_{f|y} (f | y) $ we need calculate $p(y)$ marginal distribution, which can be represented directly by this formula\n",
    "$$ p(Y = y) =  \\sum_f p(Y = y| F = f) p(F = f) $$\n",
    "Here F is a random function which represented ciphering function f .\n",
    "The number of f's is so large...if the map is one-to-one then there is 28!=3e29+  different f's and therefore it's infeasible to calculate"
   ]
  },
  {
   "cell_type": "markdown",
   "metadata": {},
   "source": [
    "# Problem 2: Markov Chain Monte Carlo Method"
   ]
  },
  {
   "cell_type": "markdown",
   "metadata": {},
   "source": [
    "- (a) Modeling the ciphering function f as uniformly distributed over the set of permutations of symbols from $A$, find the probability that two ciphering functions f1 and f2 differ in exactly two symbol assignments."
   ]
  },
  {
   "cell_type": "markdown",
   "metadata": {},
   "source": [
    "$$ Pr(dist(f_1,f_2) = 2) = \\frac{ |\\{(f_1, f_2) | dist(f_1,f_2) = 2\\}|}{ |{(f_1,f_2) }|} = \\frac{26!C_{28}^2C_{28}^2 2!}{28! 28!} = \\frac{1}{2*26!} $$"
   ]
  },
  {
   "cell_type": "markdown",
   "metadata": {},
   "source": [
    "- \n",
    "(b) Using the Metropolis-Hastings algorithm, construct a Markov chain whose stationary distribution is the posterior found in Problem 1(b).\n",
    "\n",
    "Hint: Use Problem 2(a) for constructing a proposal distribution."
   ]
  },
  {
   "cell_type": "markdown",
   "metadata": {},
   "source": [
    "- (c) Fully specify the MCMC based decoding algorithm, in the form of pseudo-code."
   ]
  },
  {
   "cell_type": "raw",
   "metadata": {
    "collapsed": true
   },
   "source": [
    "Decode(ciphertext):\n",
    "  Initialize random permutation f\n",
    "  Repeat until convergence:\n",
    "    Randomly swap two elements in f to form permutation g\n",
    "If L(g; ciphertext) > L(f; ciphertext): f=g\n",
    "Return f"
   ]
  },
  {
   "cell_type": "markdown",
   "metadata": {},
   "source": [
    "# Problem 3: Implementation"
   ]
  },
  {
   "cell_type": "code",
   "execution_count": 10,
   "metadata": {
    "collapsed": true
   },
   "outputs": [],
   "source": [
    "#find space\n",
    "space = collections.Counter(cipher_text).most_common(1)[0][0]\n",
    "#find endpoint\n",
    "used = set()\n",
    "endpoint = '.'\n",
    "for i in range(len(alphabet)):\n",
    "    p = True\n",
    "    if alphabet[i] not in used:\n",
    "        matches = re.findall(r'{}[a-z]'.format(alphabet[i]),cipher_text)\n",
    "        for item in matches:\n",
    "            if item[1] != space:\n",
    "                used.add(item[0])\n",
    "                p = False\n",
    "                break\n",
    "    if p == True:\n",
    "        endpoint = alphabet[i]\n",
    "        break"
   ]
  },
  {
   "cell_type": "code",
   "execution_count": 11,
   "metadata": {
    "collapsed": true
   },
   "outputs": [],
   "source": [
    "def create_cipher_dict(cipher):\n",
    "    '''\n",
    "    param  <cipher>      - string i.g \"aertyko....\"\n",
    "    return <cipher_dict> - maping dict {'a':'a','b':'e','c':'r','d':'t','e':'y','f':'k','g':'o',...}\n",
    "    '''\n",
    "    cipher_dict = {}\n",
    "    for i in range(len(cipher)):\n",
    "        cipher_dict[cipher[i]] = alphabet[i]\n",
    "    \n",
    "    return cipher_dict"
   ]
  },
  {
   "cell_type": "code",
   "execution_count": 12,
   "metadata": {
    "collapsed": true
   },
   "outputs": [],
   "source": [
    "def apply_cipher_on_text(text,cipher):\n",
    "    '''\n",
    "    param <text> - any string \n",
    "    param <cipher> - encoding function /type(cipher) = str\n",
    "    '''\n",
    "    cipher_dict = create_cipher_dict(cipher) \n",
    "    text = list(text)\n",
    "    newtext = \"\"\n",
    "    for elem in text:\n",
    "        if elem.lower() in cipher_dict:\n",
    "            newtext += cipher_dict[elem.lower()]\n",
    "        else:\n",
    "            newtext += \" \"\n",
    "    \n",
    "    return newtext"
   ]
  },
  {
   "cell_type": "code",
   "execution_count": 13,
   "metadata": {
    "collapsed": true
   },
   "outputs": [],
   "source": [
    "def convert_letter(letter):\n",
    "    '''\n",
    "    param <letter> -- simple character\n",
    "    return <int> -- corespond number in alphabet\n",
    "    '''\n",
    "    if letter == ' ':\n",
    "        return 26\n",
    "    if letter == '.':\n",
    "        return 27\n",
    "    if letter.isupper():\n",
    "        return ord(letter) - 65\n",
    "    return ord(letter) - 97"
   ]
  },
  {
   "cell_type": "code",
   "execution_count": 14,
   "metadata": {
    "collapsed": true
   },
   "outputs": [],
   "source": [
    "def log_posterior_probability(cipher_text,trans_mat, f):\n",
    "    cipher_indices_map = {}\n",
    "    for i, fi  in enumerate(f):\n",
    "        cipher_indices_map[fi] = i\n",
    "    init_index = cipher_indices_map[cipher_text[0]]\n",
    "\n",
    "    init_log_p = np.log(float(letter_probs[init_index]))\n",
    "    curr_index = init_index\n",
    "    probs = np.empty(len(cipher_text)-1)\n",
    "    for i in range(1, len(cipher_text)):\n",
    "        if cipher_text[i] == '\\n':\n",
    "            continue\n",
    "        next_index = cipher_indices_map[cipher_text[i]]\n",
    "        if trans_mat[next_index, curr_index] == 0:\n",
    "            return -np.inf\n",
    "        probs[i-1] = trans_mat[next_index, curr_index]\n",
    "        curr_index = next_index\n",
    "        \n",
    "    log_probs = np.log(probs)\n",
    "    log_probs[np.isnan(log_probs)] = 0\n",
    "    \n",
    "    return float(log_probs.sum() + init_log_p)"
   ]
  },
  {
   "cell_type": "code",
   "execution_count": 15,
   "metadata": {
    "collapsed": true
   },
   "outputs": [],
   "source": [
    "def generate_cipher(cipher):\n",
    "    pos1 = random.randint(0, len(list(cipher))-3)\n",
    "    pos2 = random.randint(0, len(list(cipher))-3)\n",
    "\n",
    "    if pos1 == pos2:\n",
    "        return generate_cipher(cipher)\n",
    "    \n",
    "    cipher = list(cipher)\n",
    "    pos1_alpha = cipher[pos1]\n",
    "    pos2_alpha = cipher[pos2]\n",
    "    cipher[pos1] = pos2_alpha\n",
    "    cipher[pos2] = pos1_alpha\n",
    "    return correct_cipher(''.join(cipher))\n",
    "            "
   ]
  },
  {
   "cell_type": "code",
   "execution_count": 16,
   "metadata": {
    "collapsed": true
   },
   "outputs": [],
   "source": [
    "def correct_cipher(cipher):\n",
    "    #replace spaces\n",
    "    cp = list(cipher)\n",
    "    sp = cp.index(space)\n",
    "    cp[sp] = cp[-2]\n",
    "    cp[-2] = space\n",
    "    #replace endpoint\n",
    "    sp = cp.index(endpoint)\n",
    "    cp[sp] = cp[-1]\n",
    "    cp[-1] = endpoint\n",
    "    return ''.join(cp)"
   ]
  },
  {
   "cell_type": "code",
   "execution_count": 17,
   "metadata": {
    "collapsed": true
   },
   "outputs": [],
   "source": [
    "def random_coin(p):\n",
    "    unif = random.uniform(0,1)\n",
    "    if unif>=p:\n",
    "        return False\n",
    "    return True"
   ]
  },
  {
   "cell_type": "code",
   "execution_count": 90,
   "metadata": {
    "collapsed": true
   },
   "outputs": [],
   "source": [
    "def init_cipher_function(cipher_text, scoring_params,max_iter = 1000):\n",
    "    \n",
    "    for i in range(max_iter):\n",
    "        init_state = ''.join(random.sample(list(alphabet),len(alphabet)))\n",
    "        init_state = correct_cipher(init_state)\n",
    "        if np.isfinite(log_posterior_probability(cipher_text,scoring_params,init_state)):\n",
    "            print(log_posterior_probability(cipher_text,scoring_params,init_state))\n",
    "            return init_state\n",
    "    "
   ]
  },
  {
   "cell_type": "code",
   "execution_count": 92,
   "metadata": {},
   "outputs": [
    {
     "name": "stdout",
     "output_type": "stream",
     "text": [
      "-157307.11264553573\n",
      "snifhubrmwqxkv gedtzlpca.oyj\n"
     ]
    }
   ],
   "source": [
    "init_state = init_cipher_function(cipher_text,trans_mat)\n",
    "print(init_state)"
   ]
  },
  {
   "cell_type": "code",
   "execution_count": 93,
   "metadata": {
    "collapsed": true
   },
   "outputs": [],
   "source": [
    "def MCMC_decrypt(n_iter,cipher_text,scoring_params):\n",
    "    \n",
    "    current_cipher = init_state\n",
    "    best_state = ''\n",
    "    score = -np.inf\n",
    "    log_probs_history = []\n",
    "    for i in range(n_iter):\n",
    "        \n",
    "        \n",
    "        proposed_cipher = generate_cipher(current_cipher)        \n",
    "\n",
    "        score_current_cipher  = log_posterior_probability(cipher_text,scoring_params,current_cipher)\n",
    "        score_proposed_cipher = log_posterior_probability(cipher_text,scoring_params,proposed_cipher)\n",
    "        acceptance_probability = min(1,np.exp(score_proposed_cipher-score_current_cipher))\n",
    "        log_probs_history.append(score_proposed_cipher)\n",
    "        if score_current_cipher>score:\n",
    "            best_state = current_cipher\n",
    "            score = score_current_cipher \n",
    "        if random_coin(acceptance_probability):\n",
    "            current_cipher = proposed_cipher\n",
    "\n",
    "        if i%100 == 0:\n",
    "            print (\"iter\",i,\":\",apply_cipher_on_text(cipher_text,best_state)[0:99])\n",
    "    return best_state,log_probs_history"
   ]
  },
  {
   "cell_type": "code",
   "execution_count": 94,
   "metadata": {},
   "outputs": [
    {
     "name": "stdout",
     "output_type": "stream",
     "text": [
      "iter 0 : zh xgrpxv ly gsgxu qyxt yq cetph pwlzszlu zl zo hgwgoopxu lcpl lcg iegolzyh ocyebv ag pomgv qxyt lz\n",
      "iter 100 : it nevdnk oa exenf manl am ruldt dpoixiof io is tepessdnf ordo ore quesoiat srauhk ce dsyek mnal oi\n",
      "iter 200 : id nekonm ta ecenf yanp ay hupod olticitf it is delessonf thot the questiad shaurm be osvem ynap ti\n",
      "iter 300 : in mekomy ta ecemf damp ad hupon orticitf it is neressomf thot the questian shauly be osvey dmap ti\n",
      "iter 400 : in mekamd to ecemf yomp oy hupan articitf it is neressamf that the question should be asved ymop ti\n",
      "iter 500 : in mekamd to ecemf yomp oy hupan asticitf it ir neserramf that the quertion rhould be arved ymop ti\n",
      "iter 600 : in mekamd to ecemf yomp oy hupan asticitf it ir neserramf that the quertion rhould be arved ymop ti\n",
      "iter 700 : in mecamd to ekemf yomp oy hupan astikitf it ir neserramf that the quertion rhould be arved ymop ti\n",
      "iter 800 : in mecamd to ekemf yomp oy hupan astikitf it ir neserramf that the quertion rhould be arved ymop ti\n",
      "iter 900 : in mecamd to ekemf yomp oy hupan astikitf it ir neserramf that the quertion rhould be arved ymop ti\n",
      "iter 1000 : in mecamd to ekemf yomp oy hupan astikitf it ir neserramf that the quertion rhould be arved ymop ti\n",
      "iter 1100 : in mesamd to evemf yomp oy hupan activitf it ir necerramf that the quertion rhould be arked ymop ti\n",
      "iter 1200 : in regard to everf yorp oy hupan activitf it is necessarf that the question should be asked yrop ti\n",
      "iter 1300 : in regard to every forp of hupan activity it is necessary that the question should be asked frop ti\n",
      "iter 1400 : in regard to every form of human activity it is necessary that the question should be asked from ti\n",
      "iter 1500 : in regard to every form of human activity it is necessary that the question should be asked from ti\n",
      "iter 1600 : in regard to every form of human activity it is necessary that the question should be asked from ti\n",
      "iter 1700 : in regard to every form of human activity it is necessary that the question should be asked from ti\n",
      "iter 1800 : in regard to every form of human activity it is necessary that the question should be asked from ti\n",
      "iter 1900 : in regard to every form of human activity it is necessary that the question should be asked from ti\n",
      "iter 2000 : in regard to every form of human activity it is necessary that the question should be asked from ti\n",
      "iter 2100 : in regard to every form of human activity it is necessary that the question should be asked from ti\n",
      "iter 2200 : in regard to every form of human activity it is necessary that the question should be asked from ti\n",
      "iter 2300 : in regard to every form of human activity it is necessary that the question should be asked from ti\n",
      "iter 2400 : in regard to every form of human activity it is necessary that the question should be asked from ti\n",
      "iter 2500 : in regard to every form of human activity it is necessary that the question should be asked from ti\n",
      "iter 2600 : in regard to every form of human activity it is necessary that the question should be asked from ti\n",
      "iter 2700 : in regard to every form of human activity it is necessary that the question should be asked from ti\n",
      "iter 2800 : in regard to every form of human activity it is necessary that the question should be asked from ti\n",
      "iter 2900 : in regard to every form of human activity it is necessary that the question should be asked from ti\n",
      "144.91848707199097\n"
     ]
    }
   ],
   "source": [
    "start = time.time()\n",
    "best_state,score_history = MCMC_decrypt(3000,cipher_text,trans_mat)\n",
    "print(time.time() - start)"
   ]
  },
  {
   "cell_type": "code",
   "execution_count": 95,
   "metadata": {
    "collapsed": true
   },
   "outputs": [],
   "source": [
    "def accurancy(text, decoded_text):\n",
    "    sum = 0 \n",
    "    for ch1,ch2 in zip(text,decoded_text):\n",
    "        if ch1 == ch2:\n",
    "            sum += 1\n",
    "    return sum,len(text),sum/len(text)"
   ]
  },
  {
   "cell_type": "code",
   "execution_count": 96,
   "metadata": {},
   "outputs": [
    {
     "data": {
      "text/plain": [
       "(28, 28, 1.0)"
      ]
     },
     "execution_count": 96,
     "metadata": {},
     "output_type": "execute_result"
    }
   ],
   "source": [
    "accurancy(best_state,''.join(cipher_function))"
   ]
  },
  {
   "cell_type": "code",
   "execution_count": 103,
   "metadata": {},
   "outputs": [
    {
     "data": {
      "text/plain": [
       "<matplotlib.text.Text at 0x109e54c18>"
      ]
     },
     "execution_count": 103,
     "metadata": {},
     "output_type": "execute_result"
    },
    {
     "data": {
      "image/png": "[encoded data removed]",
      "text/plain": [
       "<matplotlib.figure.Figure at 0x109e3b358>"
      ]
     },
     "metadata": {},
     "output_type": "display_data"
    }
   ],
   "source": [
    "plt.figure(figsize = (15,7))\n",
    "plt.plot(score_history)\n",
    "plt.xlabel('iteration')\n",
    "plt.ylabel('log-likelihood')"
   ]
  },
  {
   "cell_type": "code",
   "execution_count": null,
   "metadata": {
    "collapsed": true
   },
   "outputs": [],
   "source": []
  }
 ],
 "metadata": {
  "kernelspec": {
   "display_name": "Python 3",
   "language": "python",
   "name": "python3"
  },
  "language_info": {
   "codemirror_mode": {
    "name": "ipython",
    "version": 3
   },
   "file_extension": ".py",
   "mimetype": "text/x-python",
   "name": "python",
   "nbconvert_exporter": "python",
   "pygments_lexer": "ipython3",
   "version": "3.6.1"
  }
 },
 "nbformat": 4,
 "nbformat_minor": 2
}
